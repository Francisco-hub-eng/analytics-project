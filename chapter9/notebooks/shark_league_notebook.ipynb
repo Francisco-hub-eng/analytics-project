{
 "cells": [
  {
   "cell_type": "markdown",
   "id": "0e069aee",
   "metadata": {},
   "source": [
    "# Shark League Score\n",
    "## Import Python libraries"
   ]
  },
  {
   "cell_type": "code",
   "execution_count": null,
   "id": "0ace39cf",
   "metadata": {},
   "outputs": [],
   "source": [
    "import pandas as pd\n",
    "import logging\n",
    "import swc_simple_client as swc"
   ]
  }
 ],
 "metadata": {
  "kernelspec": {
   "display_name": "Python 3",
   "language": "python",
   "name": "python3"
  },
  "language_info": {
   "name": "python",
   "version": "3.12.1"
  }
 },
 "nbformat": 4,
 "nbformat_minor": 5
}
